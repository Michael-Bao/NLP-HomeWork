{
 "cells": [
  {
   "cell_type": "markdown",
   "metadata": {},
   "source": [
    "### 一、复习：制定模型，生成随机的句子"
   ]
  },
  {
   "cell_type": "markdown",
   "metadata": {},
   "source": [
    "#### 1. 初始化数据源"
   ]
  },
  {
   "cell_type": "code",
   "execution_count": 1,
   "metadata": {},
   "outputs": [],
   "source": [
    "simple_grammar = \"\"\"\n",
    "sentence => noun_phrase verb_phrase\n",
    "noun_phrase => noun_people Article Adj* noun_thing\n",
    "verb_phrase => verb Adj* noun_people\n",
    "Adj* => null | Adj Adj*\n",
    "Article => 一段 | 一首 | 一曲\n",
    "noun_people => 周杰伦 | 陈奕迅 | 罗大佑 | 张学友 | 孙燕姿\n",
    "noun_thing => 低音 | 高音 | 中音 | 琴声 | rap | 批判性歌词\n",
    "verb => 吸引 | 打动 | 征服\n",
    "Adj => 深情的 | 欢快的 | 让人听了会怀孕的 | 嘶哑的 | 走心的 \n",
    "\"\"\""
   ]
  },
  {
   "cell_type": "code",
   "execution_count": 2,
   "metadata": {},
   "outputs": [],
   "source": [
    "import random"
   ]
  },
  {
   "cell_type": "code",
   "execution_count": 3,
   "metadata": {},
   "outputs": [],
   "source": [
    "def adj():\n",
    "    return random.choice(\"深情的 | 欢快的 | 让人听了会怀孕的 | 嘶哑的 | 走心的 \".split(\"|\")).split()[0]"
   ]
  },
  {
   "cell_type": "code",
   "execution_count": 4,
   "metadata": {},
   "outputs": [],
   "source": [
    "def adj_star():\n",
    "    return random.choice([lambda : \"\",lambda : adj() + adj_star()])()"
   ]
  },
  {
   "cell_type": "markdown",
   "metadata": {},
   "source": [
    "#### 2.  按结构将数据源保存到字典中"
   ]
  },
  {
   "cell_type": "code",
   "execution_count": 5,
   "metadata": {},
   "outputs": [],
   "source": [
    "def create_grammar(datasource, split=\"=>\", line_split='\\n'):\n",
    "    dictionary = {}\n",
    "    for i,line in enumerate(datasource.split(line_split)):\n",
    "        print(\"第 {} 行是 {}\".format(i, line))"
   ]
  },
  {
   "cell_type": "code",
   "execution_count": 6,
   "metadata": {},
   "outputs": [
    {
     "name": "stdout",
     "output_type": "stream",
     "text": [
      "第 0 行是 \n",
      "第 1 行是 sentence => noun_phrase verb_phrase\n",
      "第 2 行是 noun_phrase => noun_people Article Adj* noun_thing\n",
      "第 3 行是 verb_phrase => verb Adj* noun_people\n",
      "第 4 行是 Adj* => null | Adj Adj*\n",
      "第 5 行是 Article => 一段 | 一首 | 一曲\n",
      "第 6 行是 noun_people => 周杰伦 | 陈奕迅 | 罗大佑 | 张学友 | 孙燕姿\n",
      "第 7 行是 noun_thing => 低音 | 高音 | 中音 | 琴声 | rap | 批判性歌词\n",
      "第 8 行是 verb => 吸引 | 打动 | 征服\n",
      "第 9 行是 Adj => 深情的 | 欢快的 | 让人听了会怀孕的 | 嘶哑的 | 走心的 \n",
      "第 10 行是 \n"
     ]
    }
   ],
   "source": [
    "create_grammar(simple_grammar)"
   ]
  },
  {
   "cell_type": "code",
   "execution_count": 7,
   "metadata": {},
   "outputs": [
    {
     "name": "stdout",
     "output_type": "stream",
     "text": [
      "空字符串在 if 表达式中，为假\n"
     ]
    }
   ],
   "source": [
    "if not \" \".strip():\n",
    "    print(\"空字符串在 if 表达式中，为假\")"
   ]
  },
  {
   "cell_type": "code",
   "execution_count": 8,
   "metadata": {},
   "outputs": [],
   "source": [
    "def create_grammar(datasource, split=\"=>\", line_split='\\n'):\n",
    "    dictionary = {}\n",
    "    for line in datasource.split(line_split):\n",
    "        if not line.strip() : continue\n",
    "        key,value = line.split(split)\n",
    "        dictionary[key.strip()] = [e.split() for e in value.split(\"|\")]\n",
    "    return dictionary"
   ]
  },
  {
   "cell_type": "code",
   "execution_count": 9,
   "metadata": {},
   "outputs": [
    {
     "data": {
      "text/plain": [
       "{'sentence': [['noun_phrase', 'verb_phrase']],\n",
       " 'noun_phrase': [['noun_people', 'Article', 'Adj*', 'noun_thing']],\n",
       " 'verb_phrase': [['verb', 'Adj*', 'noun_people']],\n",
       " 'Adj*': [['null'], ['Adj', 'Adj*']],\n",
       " 'Article': [['一段'], ['一首'], ['一曲']],\n",
       " 'noun_people': [['周杰伦'], ['陈奕迅'], ['罗大佑'], ['张学友'], ['孙燕姿']],\n",
       " 'noun_thing': [['低音'], ['高音'], ['中音'], ['琴声'], ['rap'], ['批判性歌词']],\n",
       " 'verb': [['吸引'], ['打动'], ['征服']],\n",
       " 'Adj': [['深情的'], ['欢快的'], ['让人听了会怀孕的'], ['嘶哑的'], ['走心的']]}"
      ]
     },
     "execution_count": 9,
     "metadata": {},
     "output_type": "execute_result"
    }
   ],
   "source": [
    "create_grammar(simple_grammar)"
   ]
  },
  {
   "cell_type": "code",
   "execution_count": 10,
   "metadata": {},
   "outputs": [],
   "source": [
    "def generate(gram, target):\n",
    "    if not (target in gram): return target\n",
    "    expand = [generate(gram, value) for value in random.choice(gram[target])]\n",
    "    return expand"
   ]
  },
  {
   "cell_type": "code",
   "execution_count": 13,
   "metadata": {},
   "outputs": [
    {
     "data": {
      "text/plain": [
       "[[['罗大佑'], ['一首'], ['null'], ['批判性歌词']], [['吸引'], ['null'], ['陈奕迅']]]"
      ]
     },
     "execution_count": 13,
     "metadata": {},
     "output_type": "execute_result"
    }
   ],
   "source": [
    "example_grammar = create_grammar(simple_grammar)\n",
    "\n",
    "generate(gram=example_grammar, target=\"sentence\")"
   ]
  },
  {
   "cell_type": "code",
   "execution_count": 14,
   "metadata": {},
   "outputs": [],
   "source": [
    "def generate(gram, target):\n",
    "    if not (target in gram): return target\n",
    "    expand = [generate(gram, value) for value in random.choice(gram[target])]\n",
    "    return \"\".join([e for e in expand if e != 'null'])"
   ]
  },
  {
   "cell_type": "code",
   "execution_count": 28,
   "metadata": {},
   "outputs": [
    {
     "data": {
      "text/plain": [
       "'张学友一曲琴声打动陈奕迅'"
      ]
     },
     "execution_count": 28,
     "metadata": {},
     "output_type": "execute_result"
    }
   ],
   "source": [
    "generate(gram=example_grammar, target=\"sentence\")"
   ]
  },
  {
   "cell_type": "markdown",
   "metadata": {},
   "source": [
    "### 二、 编程实践"
   ]
  },
  {
   "cell_type": "markdown",
   "metadata": {},
   "source": [
    "#### 1. 设计自己的句子生成器"
   ]
  },
  {
   "cell_type": "markdown",
   "metadata": {},
   "source": [
    "语法 1： 一个男生跟妹纸自我介绍可以这样说"
   ]
  },
  {
   "cell_type": "code",
   "execution_count": 30,
   "metadata": {},
   "outputs": [],
   "source": [
    "icebreaking_source = \"\"\"\n",
    "icebreaking = attention greet , I called name , I love hobby \n",
    "attention = hi | hello\n",
    "greet = 美女你好 | 你好\n",
    "I = 在下 | 我 | 朕 | 老夫 \n",
    "called = 叫 | 是 | 的名字是\n",
    "name = 毛哥 | 瓜哥 | 风中一匹狼 | 狂野男孩\n",
    "love = 喜欢 | 爱好是 | 热衷于 \n",
    "hobby = single_hobby | single_hobby 、 hobby\n",
    "single_hobby = 打篮球 |  8 级美颜自拍 | 听古典音乐 | 穿人字拖加草帽\n",
    "\"\"\""
   ]
  },
  {
   "cell_type": "code",
   "execution_count": 31,
   "metadata": {},
   "outputs": [],
   "source": [
    "icebreak_grammar = create_grammar(datasource=icebreaking_source, split=\"=\", line_split=\"\\n\")"
   ]
  },
  {
   "cell_type": "code",
   "execution_count": 248,
   "metadata": {},
   "outputs": [
    {
     "data": {
      "text/plain": [
       "'hi你好,老夫是狂野男孩,在下热衷于穿人字拖加草帽、8级美颜自拍'"
      ]
     },
     "execution_count": 248,
     "metadata": {},
     "output_type": "execute_result"
    }
   ],
   "source": [
    "generate(gram=icebreak_grammar, target=\"icebreaking\")"
   ]
  },
  {
   "cell_type": "markdown",
   "metadata": {},
   "source": [
    "语法 2：励志语"
   ]
  },
  {
   "cell_type": "code",
   "execution_count": 32,
   "metadata": {},
   "outputs": [],
   "source": [
    "encourage_source = \"\"\"\n",
    "encourage => adverb_front noun_parase , subject_parase adverb_behind verb\n",
    "noun_parase => noun noun_adj\n",
    "adverb_front => 尽管 | 就算 | 哪怕 | 即使\n",
    "noun => 生活 | 眼前 | 当下 \n",
    "noun_adj => 很苦 | 很累 | 希望渺茫 | 让人看不到希望\n",
    "subject_parase => subject | subject_adj subject\n",
    "subject_adj => 作为天之骄子的 | 玉树临风的 | 像风一样的 |　喜欢杀马特的 \n",
    "subject => 我们 | 诸位\n",
    "adverb_behind => 也要 | 也不得不 | 也将 \n",
    "verb => 保持微笑 | 保持前进 | 保持发型\n",
    "\"\"\" "
   ]
  },
  {
   "cell_type": "code",
   "execution_count": 33,
   "metadata": {},
   "outputs": [],
   "source": [
    "encourage_grammar = create_grammar(datasource=encourage_source, split=\"=>\", line_split=\"\\n\")"
   ]
  },
  {
   "cell_type": "code",
   "execution_count": 302,
   "metadata": {},
   "outputs": [
    {
     "data": {
      "text/plain": [
       "'哪怕眼前很苦,喜欢杀马特的我们也将保持前进'"
      ]
     },
     "execution_count": 302,
     "metadata": {},
     "output_type": "execute_result"
    }
   ],
   "source": [
    "generate(encourage_grammar, \"encourage\")"
   ]
  },
  {
   "cell_type": "code",
   "execution_count": 318,
   "metadata": {},
   "outputs": [
    {
     "data": {
      "text/plain": [
       "'就算当下让人看不到希望,诸位也要保持发型'"
      ]
     },
     "execution_count": 318,
     "metadata": {},
     "output_type": "execute_result"
    }
   ],
   "source": [
    "generate(encourage_grammar, \"encourage\")"
   ]
  },
  {
   "cell_type": "markdown",
   "metadata": {},
   "source": [
    "扩展 generate()：生成 generate_n() 函数"
   ]
  },
  {
   "cell_type": "code",
   "execution_count": 35,
   "metadata": {},
   "outputs": [],
   "source": [
    "def generate_n(gram, target, num):\n",
    "    for _ in range(num):\n",
    "        yield generate(gram, target)"
   ]
  },
  {
   "cell_type": "code",
   "execution_count": 36,
   "metadata": {},
   "outputs": [],
   "source": [
    "fn = generate_n(encourage_grammar, \"encourage\", 3)"
   ]
  },
  {
   "cell_type": "code",
   "execution_count": 377,
   "metadata": {},
   "outputs": [
    {
     "name": "stdout",
     "output_type": "stream",
     "text": [
      "哪怕眼前希望渺茫,我们也将保持前进 \n",
      "\n",
      "尽管当下希望渺茫,玉树临风的诸位也要保持发型 \n",
      "\n",
      "尽管眼前很累,作为天之骄子的诸位也将保持微笑 \n",
      "\n"
     ]
    }
   ],
   "source": [
    "for n in fn:\n",
    "    print(\"{} \\n\".format(n))"
   ]
  },
  {
   "cell_type": "markdown",
   "metadata": {},
   "source": [
    "#### 2. 使用新数据源完成语言模型的训练--豆瓣评论数据集"
   ]
  },
  {
   "cell_type": "code",
   "execution_count": 38,
   "metadata": {},
   "outputs": [],
   "source": [
    "import pandas as pd\n",
    "import jieba\n",
    "import re\n",
    "import numpy as np\n",
    "from collections import Counter"
   ]
  },
  {
   "cell_type": "code",
   "execution_count": 39,
   "metadata": {},
   "outputs": [],
   "source": [
    "file = \"datasource/movie_comments.csv\""
   ]
  },
  {
   "cell_type": "code",
   "execution_count": 40,
   "metadata": {},
   "outputs": [
    {
     "name": "stderr",
     "output_type": "stream",
     "text": [
      "C:\\Users\\1\\Anaconda3\\lib\\site-packages\\IPython\\core\\interactiveshell.py:3049: DtypeWarning: Columns (0,4) have mixed types. Specify dtype option on import or set low_memory=False.\n",
      "  interactivity=interactivity, compiler=compiler, result=result)\n"
     ]
    }
   ],
   "source": [
    "content = pd.read_csv(file, encoding=\"utf8\")"
   ]
  },
  {
   "cell_type": "code",
   "execution_count": 41,
   "metadata": {},
   "outputs": [
    {
     "data": {
      "text/html": [
       "<div>\n",
       "<style scoped>\n",
       "    .dataframe tbody tr th:only-of-type {\n",
       "        vertical-align: middle;\n",
       "    }\n",
       "\n",
       "    .dataframe tbody tr th {\n",
       "        vertical-align: top;\n",
       "    }\n",
       "\n",
       "    .dataframe thead th {\n",
       "        text-align: right;\n",
       "    }\n",
       "</style>\n",
       "<table border=\"1\" class=\"dataframe\">\n",
       "  <thead>\n",
       "    <tr style=\"text-align: right;\">\n",
       "      <th></th>\n",
       "      <th>id</th>\n",
       "      <th>link</th>\n",
       "      <th>name</th>\n",
       "      <th>comment</th>\n",
       "      <th>star</th>\n",
       "    </tr>\n",
       "  </thead>\n",
       "  <tbody>\n",
       "    <tr>\n",
       "      <th>0</th>\n",
       "      <td>1</td>\n",
       "      <td>https://movie.douban.com/subject/26363254/</td>\n",
       "      <td>战狼2</td>\n",
       "      <td>吴京意淫到了脑残的地步，看了恶心想吐</td>\n",
       "      <td>1</td>\n",
       "    </tr>\n",
       "    <tr>\n",
       "      <th>1</th>\n",
       "      <td>2</td>\n",
       "      <td>https://movie.douban.com/subject/26363254/</td>\n",
       "      <td>战狼2</td>\n",
       "      <td>首映礼看的。太恐怖了这个电影，不讲道理的，完全就是吴京在实现他这个小粉红的英雄梦。各种装备轮...</td>\n",
       "      <td>2</td>\n",
       "    </tr>\n",
       "    <tr>\n",
       "      <th>2</th>\n",
       "      <td>3</td>\n",
       "      <td>https://movie.douban.com/subject/26363254/</td>\n",
       "      <td>战狼2</td>\n",
       "      <td>吴京的炒作水平不输冯小刚，但小刚至少不会用主旋律来炒作…吴京让人看了不舒服，为了主旋律而主旋...</td>\n",
       "      <td>2</td>\n",
       "    </tr>\n",
       "    <tr>\n",
       "      <th>3</th>\n",
       "      <td>4</td>\n",
       "      <td>https://movie.douban.com/subject/26363254/</td>\n",
       "      <td>战狼2</td>\n",
       "      <td>凭良心说，好看到不像《战狼1》的续集，完虐《湄公河行动》。</td>\n",
       "      <td>4</td>\n",
       "    </tr>\n",
       "    <tr>\n",
       "      <th>4</th>\n",
       "      <td>5</td>\n",
       "      <td>https://movie.douban.com/subject/26363254/</td>\n",
       "      <td>战狼2</td>\n",
       "      <td>中二得很</td>\n",
       "      <td>1</td>\n",
       "    </tr>\n",
       "  </tbody>\n",
       "</table>\n",
       "</div>"
      ],
      "text/plain": [
       "  id                                        link name  \\\n",
       "0  1  https://movie.douban.com/subject/26363254/  战狼2   \n",
       "1  2  https://movie.douban.com/subject/26363254/  战狼2   \n",
       "2  3  https://movie.douban.com/subject/26363254/  战狼2   \n",
       "3  4  https://movie.douban.com/subject/26363254/  战狼2   \n",
       "4  5  https://movie.douban.com/subject/26363254/  战狼2   \n",
       "\n",
       "                                             comment star  \n",
       "0                                 吴京意淫到了脑残的地步，看了恶心想吐    1  \n",
       "1  首映礼看的。太恐怖了这个电影，不讲道理的，完全就是吴京在实现他这个小粉红的英雄梦。各种装备轮...    2  \n",
       "2  吴京的炒作水平不输冯小刚，但小刚至少不会用主旋律来炒作…吴京让人看了不舒服，为了主旋律而主旋...    2  \n",
       "3                      凭良心说，好看到不像《战狼1》的续集，完虐《湄公河行动》。    4  \n",
       "4                                               中二得很    1  "
      ]
     },
     "execution_count": 41,
     "metadata": {},
     "output_type": "execute_result"
    }
   ],
   "source": [
    "content.head()"
   ]
  },
  {
   "cell_type": "code",
   "execution_count": 42,
   "metadata": {},
   "outputs": [
    {
     "data": {
      "text/plain": [
       "['吴京意淫到了脑残的地步，看了恶心想吐',\n",
       " '首映礼看的。太恐怖了这个电影，不讲道理的，完全就是吴京在实现他这个小粉红的英雄梦。各种装备轮番上场，视物理逻辑于不顾，不得不说有钱真好，随意胡闹']"
      ]
     },
     "execution_count": 42,
     "metadata": {},
     "output_type": "execute_result"
    }
   ],
   "source": [
    "content[\"comment\"].tolist()[:2]"
   ]
  },
  {
   "cell_type": "code",
   "execution_count": 43,
   "metadata": {},
   "outputs": [],
   "source": [
    "def token(string):\n",
    "    return re.findall(\"\\w+\", string)"
   ]
  },
  {
   "cell_type": "markdown",
   "metadata": {},
   "source": [
    "  "
   ]
  },
  {
   "cell_type": "markdown",
   "metadata": {},
   "source": [
    "2.1 先把所有评论，每条作为一段，写入一个文件"
   ]
  },
  {
   "cell_type": "code",
   "execution_count": null,
   "metadata": {},
   "outputs": [],
   "source": [
    "all_comment_file = open(\"txt_file_for_jieba/all_comment_from_douban.txt\", \"w\", encoding=\"utf-8\")\n",
    "\n",
    "comment_list = content[\"comment\"].tolist()\n",
    "\n",
    "for i, s in enumerate(comment_list):\n",
    "    if i % 500 == 0 : print(i)\n",
    "    all_comment_file.write(\"\".join(token(str(s))) + \"\\n\")\n",
    "\n",
    "all_comment_file.close()"
   ]
  },
  {
   "cell_type": "markdown",
   "metadata": {},
   "source": [
    "  "
   ]
  },
  {
   "cell_type": "markdown",
   "metadata": {},
   "source": [
    "    \n",
    "2.2 对所有评论进行分词，将结果写入另一个文件，每个词（不考虑重复）作为一段"
   ]
  },
  {
   "cell_type": "code",
   "execution_count": 48,
   "metadata": {},
   "outputs": [],
   "source": [
    "def cut(string):\n",
    "    return list(jieba.cut(string))"
   ]
  },
  {
   "cell_type": "code",
   "execution_count": null,
   "metadata": {},
   "outputs": [],
   "source": [
    "jieba_cut_all_comment_file = open(\"txt_file_for_jieba/all_comment_from_douban_jieba_cut.txt\", \"w\", encoding=\"utf-8\")\n",
    "all_comment_file = open(\"txt_file_for_jieba/all_comment_from_douban.txt\", encoding=\"utf-8\")\n",
    "\n",
    "for i, line in enumerate(all_comment_file):\n",
    "    if i % 1000 == 0 : print(i)\n",
    "    if i > 200000 : break\n",
    "    jieba_cut_all_comment_file.write(\"\\n\".join(cut(line)))\n",
    "\n",
    "jieba_cut_all_comment_file.close()\n",
    "all_comment_file.close()"
   ]
  },
  {
   "cell_type": "markdown",
   "metadata": {},
   "source": [
    "  "
   ]
  },
  {
   "cell_type": "markdown",
   "metadata": {},
   "source": [
    "2.3 取出分词，将每个词各作为一个值放到一个 list 里面"
   ]
  },
  {
   "cell_type": "code",
   "execution_count": 50,
   "metadata": {},
   "outputs": [],
   "source": [
    "words_list = open(\"txt_file_for_jieba/all_comment_from_douban_jieba_cut.txt\", encoding=\"utf-8\").read().split(\"\\n\")"
   ]
  },
  {
   "cell_type": "code",
   "execution_count": 51,
   "metadata": {},
   "outputs": [],
   "source": [
    "words_count = Counter(words_list)"
   ]
  },
  {
   "cell_type": "code",
   "execution_count": 52,
   "metadata": {},
   "outputs": [
    {
     "data": {
      "text/plain": [
       "[('的', 250550), ('', 200002), ('了', 80342), ('是', 56482)]"
      ]
     },
     "execution_count": 52,
     "metadata": {},
     "output_type": "execute_result"
    }
   ],
   "source": [
    "words_count.most_common()[:4]"
   ]
  },
  {
   "cell_type": "markdown",
   "metadata": {},
   "source": [
    "2.3.1 去掉多于的换行符"
   ]
  },
  {
   "cell_type": "code",
   "execution_count": 53,
   "metadata": {},
   "outputs": [],
   "source": [
    "word_list = [word for word in words_list if word != '']"
   ]
  },
  {
   "cell_type": "code",
   "execution_count": 54,
   "metadata": {},
   "outputs": [],
   "source": [
    "words_count = Counter(word_list)"
   ]
  },
  {
   "cell_type": "code",
   "execution_count": 55,
   "metadata": {},
   "outputs": [
    {
     "data": {
      "text/plain": [
       "[('的', 250550), ('了', 80342), ('是', 56482), ('我', 39448)]"
      ]
     },
     "execution_count": 55,
     "metadata": {},
     "output_type": "execute_result"
    }
   ],
   "source": [
    "words_count.most_common()[:4]"
   ]
  },
  {
   "cell_type": "markdown",
   "metadata": {},
   "source": [
    "2.4 用 matplotlib.pyplot 画图展示最高频率的一些词出现的次数"
   ]
  },
  {
   "cell_type": "code",
   "execution_count": 56,
   "metadata": {},
   "outputs": [],
   "source": [
    "%matplotlib inline"
   ]
  },
  {
   "cell_type": "code",
   "execution_count": 57,
   "metadata": {},
   "outputs": [],
   "source": [
    "import matplotlib.pyplot as plt"
   ]
  },
  {
   "cell_type": "code",
   "execution_count": 58,
   "metadata": {},
   "outputs": [],
   "source": [
    "frequiences = [f for w, f in words_count.most_common(100)]"
   ]
  },
  {
   "cell_type": "code",
   "execution_count": 59,
   "metadata": {},
   "outputs": [],
   "source": [
    "x = [i for i in range(100)]"
   ]
  },
  {
   "cell_type": "code",
   "execution_count": 60,
   "metadata": {},
   "outputs": [
    {
     "data": {
      "text/plain": [
       "[<matplotlib.lines.Line2D at 0x16bd4860>]"
      ]
     },
     "execution_count": 60,
     "metadata": {},
     "output_type": "execute_result"
    },
    {
     "data": {
      "image/png": "[encoded data removed]",
      "text/plain": [
       "<Figure size 432x288 with 1 Axes>"
      ]
     },
     "metadata": {
      "needs_background": "light"
     },
     "output_type": "display_data"
    }
   ],
   "source": [
    "plt.plot(x, np.log(frequiences))"
   ]
  },
  {
   "cell_type": "markdown",
   "metadata": {},
   "source": [
    "2.5 计算词出现的概率"
   ]
  },
  {
   "cell_type": "code",
   "execution_count": 61,
   "metadata": {},
   "outputs": [],
   "source": [
    "def prob_1(word):\n",
    "    return words_count[word] / len(words_list)"
   ]
  },
  {
   "cell_type": "code",
   "execution_count": 62,
   "metadata": {},
   "outputs": [],
   "source": [
    "words_list_2_gram = [\"\".join(words_list[i:i+2]) for i in range(len(words_list[:-2]))]\n",
    "words_count_2_gram = Counter(words_list_2_gram)"
   ]
  },
  {
   "cell_type": "code",
   "execution_count": 63,
   "metadata": {},
   "outputs": [],
   "source": [
    "def prob_2(word1, word2):\n",
    "    if word1 + word2 in words_count_2_gram : return words_count_2_gram[word1 + word2] / len(words_list_2_gram)\n",
    "    else :\n",
    "        return 1 / len(words_list_2_gram)"
   ]
  },
  {
   "cell_type": "code",
   "execution_count": 64,
   "metadata": {},
   "outputs": [],
   "source": [
    "def get_probability(sentence):\n",
    "    sentence_pro = 1\n",
    "    \n",
    "    words = cut(sentence)\n",
    "    \n",
    "    for i, w in enumerate(words[:-1]):\n",
    "        probability = prob_2(words[i], words[i+1])\n",
    "        \n",
    "        sentence_pro *= probability\n",
    "        \n",
    "    return sentence_pro"
   ]
  },
  {
   "cell_type": "code",
   "execution_count": 65,
   "metadata": {},
   "outputs": [
    {
     "data": {
      "text/plain": [
       "7.423277388529124e-14"
      ]
     },
     "execution_count": 65,
     "metadata": {},
     "output_type": "execute_result"
    }
   ],
   "source": [
    "get_probability(\"养乐多绿来一杯\")"
   ]
  },
  {
   "cell_type": "code",
   "execution_count": 66,
   "metadata": {},
   "outputs": [
    {
     "name": "stdout",
     "output_type": "stream",
     "text": [
      "即使眼前很累,喜欢杀马特的我们也不得不保持发型 is probability is 6.209574057116192e-68\n",
      "就算当下希望渺茫,像风一样的我们也将保持微笑 is probability is 1.5918713922203806e-76\n",
      "哪怕当下让人看不到希望,诸位也不得不保持前进 is probability is 7.1588083078855445e-68\n",
      "就算当下很累,我们也不得不保持发型 is probability is 9.777743246067374e-51\n",
      "尽管眼前很累,我们也要保持前进 is probability is 4.387413076556802e-48\n"
     ]
    }
   ],
   "source": [
    "for sen in [generate(encourage_grammar, \"encourage\") for _ in range(5)]:\n",
    "    print(\"{} is probability is {}\".format(sen, get_probability(sen)))"
   ]
  },
  {
   "cell_type": "code",
   "execution_count": 67,
   "metadata": {},
   "outputs": [
    {
     "name": "stdout",
     "output_type": "stream",
     "text": [
      "孙燕姿一段高音打动张学友 is probability is 5.510504718704777e-27\n",
      "陈奕迅一曲rap吸引深情的罗大佑 is probability is 8.590261066326285e-39\n",
      "张学友一曲欢快的rap打动张学友 is probability is 1.0635561320213496e-38\n",
      "陈奕迅一首低音征服孙燕姿 is probability is 5.510504718704777e-27\n",
      "罗大佑一首高音征服让人听了会怀孕的罗大佑 is probability is 4.135899231190761e-64\n"
     ]
    }
   ],
   "source": [
    "for sen in [generate(gram=example_grammar, target=\"sentence\") for _ in range(5)]:\n",
    "    print(\"{} is probability is {}\".format(sen, get_probability(sen)))"
   ]
  },
  {
   "cell_type": "markdown",
   "metadata": {},
   "source": [
    "#### 3. 获得最优质的语言"
   ]
  },
  {
   "cell_type": "code",
   "execution_count": 68,
   "metadata": {},
   "outputs": [],
   "source": [
    "def generate_best(num):\n",
    "    sentence_arr = [\"\"] * num\n",
    "    sentence_pro_arr = np.full(num, 0, dtype=float)\n",
    "    sentence_list = [generate(gram=example_grammar, target=\"sentence\") for _ in range(num)]\n",
    "        \n",
    "    for i in range(len(sentence_list)):\n",
    "        sentence_arr[i] = sentence_list[i]\n",
    "        sentence_pro_arr[i] = get_probability(sentence_list[i])\n",
    "    \n",
    "    list_temp = zip(list(sentence_arr), list(sentence_pro_arr))\n",
    "    return sorted(list_temp, key = lambda x : x[1], reverse=True)[0][0]\n",
    "    "
   ]
  },
  {
   "cell_type": "code",
   "execution_count": 69,
   "metadata": {},
   "outputs": [
    {
     "data": {
      "text/plain": [
       "'张学友一首琴声吸引罗大佑'"
      ]
     },
     "execution_count": 69,
     "metadata": {},
     "output_type": "execute_result"
    }
   ],
   "source": [
    "generate_best(400)"
   ]
  },
  {
   "cell_type": "code",
   "execution_count": 598,
   "metadata": {},
   "outputs": [
    {
     "data": {
      "text/plain": [
       "5.510504718704777e-27"
      ]
     },
     "execution_count": 598,
     "metadata": {},
     "output_type": "execute_result"
    }
   ],
   "source": [
    "get_probability('陈奕迅一段低音打动孙燕姿')"
   ]
  },
  {
   "cell_type": "code",
   "execution_count": 602,
   "metadata": {},
   "outputs": [
    {
     "data": {
      "text/plain": [
       "'孙燕姿一段低音吸引孙燕姿'"
      ]
     },
     "execution_count": 602,
     "metadata": {},
     "output_type": "execute_result"
    }
   ],
   "source": [
    "generate_best(4000)"
   ]
  },
  {
   "cell_type": "markdown",
   "metadata": {},
   "source": [
    "#### 4. 这个模型的问题"
   ]
  },
  {
   "cell_type": "markdown",
   "metadata": {},
   "source": [
    "1）需要提高数据源的匹配度，在电影评论里面，获取音乐语句的概率，不是最明智的选择，当然出来的结果还可以  \n",
    "2）可能生成的最好语句，存在逻辑问题，比如：孙燕姿一段低音吸引孙燕姿，我的偶像不应该这么自恋，准备加一下筛选"
   ]
  }
 ],
 "metadata": {
  "kernelspec": {
   "display_name": "Python 3",
   "language": "python",
   "name": "python3"
  },
  "language_info": {
   "codemirror_mode": {
    "name": "ipython",
    "version": 3
   },
   "file_extension": ".py",
   "mimetype": "text/x-python",
   "name": "python",
   "nbconvert_exporter": "python",
   "pygments_lexer": "ipython3",
   "version": "3.7.3"
  }
 },
 "nbformat": 4,
 "nbformat_minor": 2
}
