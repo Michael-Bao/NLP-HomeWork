{
 "cells": [
  {
   "cell_type": "markdown",
   "metadata": {},
   "source": [
    "### 基础理论部分"
   ]
  },
  {
   "cell_type": "markdown",
   "metadata": {},
   "source": [
    "#### 0. Can you come up out 3 sceneraies which use AI methods? "
   ]
  },
  {
   "cell_type": "markdown",
   "metadata": {},
   "source": [
    "A：电商的智能客服，人脸、车辆等图像识别，情绪识别机器人，文章识别分类"
   ]
  },
  {
   "cell_type": "markdown",
   "metadata": {},
   "source": [
    "#### 1. How do we use Github; Why do we use Jupyter and Pycharm;\n"
   ]
  },
  {
   "cell_type": "markdown",
   "metadata": {},
   "source": [
    "A: Github:新建账户、新建仓库、配置密匙、提交代码，可以 clone 别人的项目，并 pull 别人后续的更新；  \n",
    "   Jupyter：演示和联系用，运行结果会一直保留着，轻、方便；  \n",
    "   Pycharm：更适合实际开发等涉及到多个文件的项目；  "
   ]
  },
  {
   "cell_type": "markdown",
   "metadata": {},
   "source": [
    "#### 2. What's the Probability Model"
   ]
  },
  {
   "cell_type": "markdown",
   "metadata": {},
   "source": [
    "A: 给定一些数据源，输入目标，求目标在数据源中出现的概率。   \n",
    "为了得到的概率更合理，数据源的数量级别不能太小，一般要几万甚至以上，    \n",
    "同时，数据源的类型要选好。"
   ]
  },
  {
   "cell_type": "markdown",
   "metadata": {},
   "source": [
    "#### 3. Can you came up with some sceneraies at which we could use Probability Model?"
   ]
  },
  {
   "cell_type": "markdown",
   "metadata": {},
   "source": [
    "A: 1）连续两次中奖；    \n",
    "2）N 个人的生日都不相同的概率；  \n",
    "3）抽样取出不合格产品的概率。"
   ]
  },
  {
   "cell_type": "markdown",
   "metadata": {},
   "source": [
    "#### 4. Why do we use probability and what's the difficult points for programming based on parsing and pattern match?"
   ]
  },
  {
   "cell_type": "markdown",
   "metadata": {},
   "source": [
    "A: 通过概率可能判断一些句子的合理性；  \n",
    "模式匹配的编程难点是耗人工，当想要再生成一种句子是，需要重新定义句子的组成部分，然后找组成部分的数据源。"
   ]
  },
  {
   "cell_type": "markdown",
   "metadata": {},
   "source": [
    "#### 5. What's the Language Model"
   ]
  },
  {
   "cell_type": "markdown",
   "metadata": {},
   "source": [
    "A：对于一个给定长度为m的序列，它可以为整个序列产生一个概率 P(w_1,w_2,…,w_m)，表示任意一个句子或序列出现的概率。"
   ]
  },
  {
   "cell_type": "markdown",
   "metadata": {},
   "source": [
    "#### 6. Can you came up with some sceneraies at which we could use Language Model?"
   ]
  },
  {
   "cell_type": "markdown",
   "metadata": {},
   "source": [
    "A: 1）爬取豆瓣中一些对电影的评论，jieba 分词后，统计每个词出现的概率，然后自定生成一些对电影的评论，判断这些评论可能出现的概率，从而判断生成的这条评论的合理性；\n",
    "2）.."
   ]
  },
  {
   "cell_type": "markdown",
   "metadata": {},
   "source": [
    "#### 7. What's the 1-gram language model"
   ]
  },
  {
   "cell_type": "markdown",
   "metadata": {},
   "source": [
    "A：获取数据源，进行分词，统计每个词出现的次数。可以获取一个词语出现的概率。"
   ]
  },
  {
   "cell_type": "markdown",
   "metadata": {},
   "source": [
    "#### 8. What's the disadvantages and advantages of 1-gram language model;"
   ]
  },
  {
   "cell_type": "markdown",
   "metadata": {},
   "source": [
    "A：Sorry, i do not know .."
   ]
  },
  {
   "cell_type": "markdown",
   "metadata": {},
   "source": [
    "#### 9. What't the 2-gram models;"
   ]
  },
  {
   "cell_type": "markdown",
   "metadata": {},
   "source": [
    "A： 获取数据源，进行分词，然后把每个词+紧挨着后面一个词组成一个大分词，遍历一遍，生成一个新的\"分词\"，  \n",
    "统计每个新的分词出现的次数。便可以从中获取两个词挨着一起出现的概率。"
   ]
  }
 ],
 "metadata": {
  "kernelspec": {
   "display_name": "Python 3",
   "language": "python",
   "name": "python3"
  },
  "language_info": {
   "codemirror_mode": {
    "name": "ipython",
    "version": 3
   },
   "file_extension": ".py",
   "mimetype": "text/x-python",
   "name": "python",
   "nbconvert_exporter": "python",
   "pygments_lexer": "ipython3",
   "version": "3.7.3"
  }
 },
 "nbformat": 4,
 "nbformat_minor": 2
}
